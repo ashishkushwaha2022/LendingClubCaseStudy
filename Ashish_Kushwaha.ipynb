{
 "cells": [
  {
   "cell_type": "markdown",
   "id": "2bfe1ef5",
   "metadata": {},
   "source": [
    "### 1. Import Libraries"
   ]
  },
  {
   "cell_type": "code",
   "execution_count": 1,
   "id": "f25a4c06",
   "metadata": {},
   "outputs": [],
   "source": [
    "import pandas as pd # to work with dataframe\n",
    "import numpy as np # to work on maths calculations\n",
    "import matplotlib.pyplot as plt # for data visualization\n",
    "import seaborn as sns  # for data visualization"
   ]
  },
  {
   "cell_type": "markdown",
   "id": "81a6a20d",
   "metadata": {},
   "source": [
    "### 2. Load Data"
   ]
  },
  {
   "cell_type": "code",
   "execution_count": 2,
   "id": "12b1fba5",
   "metadata": {},
   "outputs": [],
   "source": [
    "# Load csv to dataframe\n",
    "# Setting 'low_memory = False' to avoid error message. \n",
    "# The error is due to mix datatype of columns. \n",
    "# Pandas tries to identify the datatype for each columns which damands lot of memory.\n",
    "\n",
    "df_loan  = pd.read_csv(r'C:\\Users\\jk507e\\Downloads\\loan\\loan.csv',low_memory=False)"
   ]
  },
  {
   "cell_type": "markdown",
   "id": "2e10ab98",
   "metadata": {},
   "source": [
    "### 3. Understand the Data"
   ]
  },
  {
   "cell_type": "code",
   "execution_count": 3,
   "id": "f9216590",
   "metadata": {},
   "outputs": [
    {
     "data": {
      "text/html": [
       "<div>\n",
       "<style scoped>\n",
       "    .dataframe tbody tr th:only-of-type {\n",
       "        vertical-align: middle;\n",
       "    }\n",
       "\n",
       "    .dataframe tbody tr th {\n",
       "        vertical-align: top;\n",
       "    }\n",
       "\n",
       "    .dataframe thead th {\n",
       "        text-align: right;\n",
       "    }\n",
       "</style>\n",
       "<table border=\"1\" class=\"dataframe\">\n",
       "  <thead>\n",
       "    <tr style=\"text-align: right;\">\n",
       "      <th></th>\n",
       "      <th>id</th>\n",
       "      <th>member_id</th>\n",
       "      <th>loan_amnt</th>\n",
       "      <th>funded_amnt</th>\n",
       "      <th>funded_amnt_inv</th>\n",
       "      <th>term</th>\n",
       "      <th>int_rate</th>\n",
       "      <th>installment</th>\n",
       "      <th>grade</th>\n",
       "      <th>sub_grade</th>\n",
       "      <th>...</th>\n",
       "      <th>num_tl_90g_dpd_24m</th>\n",
       "      <th>num_tl_op_past_12m</th>\n",
       "      <th>pct_tl_nvr_dlq</th>\n",
       "      <th>percent_bc_gt_75</th>\n",
       "      <th>pub_rec_bankruptcies</th>\n",
       "      <th>tax_liens</th>\n",
       "      <th>tot_hi_cred_lim</th>\n",
       "      <th>total_bal_ex_mort</th>\n",
       "      <th>total_bc_limit</th>\n",
       "      <th>total_il_high_credit_limit</th>\n",
       "    </tr>\n",
       "  </thead>\n",
       "  <tbody>\n",
       "    <tr>\n",
       "      <th>0</th>\n",
       "      <td>1077501</td>\n",
       "      <td>1296599</td>\n",
       "      <td>5000</td>\n",
       "      <td>5000</td>\n",
       "      <td>4975.0</td>\n",
       "      <td>36 months</td>\n",
       "      <td>10.65%</td>\n",
       "      <td>162.87</td>\n",
       "      <td>B</td>\n",
       "      <td>B2</td>\n",
       "      <td>...</td>\n",
       "      <td>NaN</td>\n",
       "      <td>NaN</td>\n",
       "      <td>NaN</td>\n",
       "      <td>NaN</td>\n",
       "      <td>0.0</td>\n",
       "      <td>0.0</td>\n",
       "      <td>NaN</td>\n",
       "      <td>NaN</td>\n",
       "      <td>NaN</td>\n",
       "      <td>NaN</td>\n",
       "    </tr>\n",
       "    <tr>\n",
       "      <th>1</th>\n",
       "      <td>1077430</td>\n",
       "      <td>1314167</td>\n",
       "      <td>2500</td>\n",
       "      <td>2500</td>\n",
       "      <td>2500.0</td>\n",
       "      <td>60 months</td>\n",
       "      <td>15.27%</td>\n",
       "      <td>59.83</td>\n",
       "      <td>C</td>\n",
       "      <td>C4</td>\n",
       "      <td>...</td>\n",
       "      <td>NaN</td>\n",
       "      <td>NaN</td>\n",
       "      <td>NaN</td>\n",
       "      <td>NaN</td>\n",
       "      <td>0.0</td>\n",
       "      <td>0.0</td>\n",
       "      <td>NaN</td>\n",
       "      <td>NaN</td>\n",
       "      <td>NaN</td>\n",
       "      <td>NaN</td>\n",
       "    </tr>\n",
       "    <tr>\n",
       "      <th>2</th>\n",
       "      <td>1077175</td>\n",
       "      <td>1313524</td>\n",
       "      <td>2400</td>\n",
       "      <td>2400</td>\n",
       "      <td>2400.0</td>\n",
       "      <td>36 months</td>\n",
       "      <td>15.96%</td>\n",
       "      <td>84.33</td>\n",
       "      <td>C</td>\n",
       "      <td>C5</td>\n",
       "      <td>...</td>\n",
       "      <td>NaN</td>\n",
       "      <td>NaN</td>\n",
       "      <td>NaN</td>\n",
       "      <td>NaN</td>\n",
       "      <td>0.0</td>\n",
       "      <td>0.0</td>\n",
       "      <td>NaN</td>\n",
       "      <td>NaN</td>\n",
       "      <td>NaN</td>\n",
       "      <td>NaN</td>\n",
       "    </tr>\n",
       "    <tr>\n",
       "      <th>3</th>\n",
       "      <td>1076863</td>\n",
       "      <td>1277178</td>\n",
       "      <td>10000</td>\n",
       "      <td>10000</td>\n",
       "      <td>10000.0</td>\n",
       "      <td>36 months</td>\n",
       "      <td>13.49%</td>\n",
       "      <td>339.31</td>\n",
       "      <td>C</td>\n",
       "      <td>C1</td>\n",
       "      <td>...</td>\n",
       "      <td>NaN</td>\n",
       "      <td>NaN</td>\n",
       "      <td>NaN</td>\n",
       "      <td>NaN</td>\n",
       "      <td>0.0</td>\n",
       "      <td>0.0</td>\n",
       "      <td>NaN</td>\n",
       "      <td>NaN</td>\n",
       "      <td>NaN</td>\n",
       "      <td>NaN</td>\n",
       "    </tr>\n",
       "    <tr>\n",
       "      <th>4</th>\n",
       "      <td>1075358</td>\n",
       "      <td>1311748</td>\n",
       "      <td>3000</td>\n",
       "      <td>3000</td>\n",
       "      <td>3000.0</td>\n",
       "      <td>60 months</td>\n",
       "      <td>12.69%</td>\n",
       "      <td>67.79</td>\n",
       "      <td>B</td>\n",
       "      <td>B5</td>\n",
       "      <td>...</td>\n",
       "      <td>NaN</td>\n",
       "      <td>NaN</td>\n",
       "      <td>NaN</td>\n",
       "      <td>NaN</td>\n",
       "      <td>0.0</td>\n",
       "      <td>0.0</td>\n",
       "      <td>NaN</td>\n",
       "      <td>NaN</td>\n",
       "      <td>NaN</td>\n",
       "      <td>NaN</td>\n",
       "    </tr>\n",
       "  </tbody>\n",
       "</table>\n",
       "<p>5 rows × 111 columns</p>\n",
       "</div>"
      ],
      "text/plain": [
       "        id  member_id  loan_amnt  funded_amnt  funded_amnt_inv        term  \\\n",
       "0  1077501    1296599       5000         5000           4975.0   36 months   \n",
       "1  1077430    1314167       2500         2500           2500.0   60 months   \n",
       "2  1077175    1313524       2400         2400           2400.0   36 months   \n",
       "3  1076863    1277178      10000        10000          10000.0   36 months   \n",
       "4  1075358    1311748       3000         3000           3000.0   60 months   \n",
       "\n",
       "  int_rate  installment grade sub_grade  ... num_tl_90g_dpd_24m  \\\n",
       "0   10.65%       162.87     B        B2  ...                NaN   \n",
       "1   15.27%        59.83     C        C4  ...                NaN   \n",
       "2   15.96%        84.33     C        C5  ...                NaN   \n",
       "3   13.49%       339.31     C        C1  ...                NaN   \n",
       "4   12.69%        67.79     B        B5  ...                NaN   \n",
       "\n",
       "  num_tl_op_past_12m pct_tl_nvr_dlq  percent_bc_gt_75 pub_rec_bankruptcies  \\\n",
       "0                NaN            NaN               NaN                  0.0   \n",
       "1                NaN            NaN               NaN                  0.0   \n",
       "2                NaN            NaN               NaN                  0.0   \n",
       "3                NaN            NaN               NaN                  0.0   \n",
       "4                NaN            NaN               NaN                  0.0   \n",
       "\n",
       "  tax_liens tot_hi_cred_lim total_bal_ex_mort total_bc_limit  \\\n",
       "0       0.0             NaN               NaN            NaN   \n",
       "1       0.0             NaN               NaN            NaN   \n",
       "2       0.0             NaN               NaN            NaN   \n",
       "3       0.0             NaN               NaN            NaN   \n",
       "4       0.0             NaN               NaN            NaN   \n",
       "\n",
       "  total_il_high_credit_limit  \n",
       "0                        NaN  \n",
       "1                        NaN  \n",
       "2                        NaN  \n",
       "3                        NaN  \n",
       "4                        NaN  \n",
       "\n",
       "[5 rows x 111 columns]"
      ]
     },
     "execution_count": 3,
     "metadata": {},
     "output_type": "execute_result"
    }
   ],
   "source": [
    "df_loan.head()\n",
    "\n",
    "# The data has information about loan, amount of loans, tenure, interest rate and installments.\n",
    "# It has other information like verificaiton status, and whats the status of loan at present whether it is paid fully, ongoing \n",
    "# or charged off.\n",
    "# If has other behavioral data of the customer and mostly NA\n",
    "\n",
    "# Que: What could be the driving affects in loan becoming default?\n",
    "\n",
    "# Que: Does highter loan amount becomes burden to customer and defaults or is lesser loan amount means, lesser income \n",
    "#      of the borrower and chances of loan being charged off is high?\n",
    "\n",
    "# Que: Is highter income means wealthy borrower and very less chances of getting charded off?\n",
    "\n",
    "# Que: Is interest rate has anything to do with loan being charged off?\n",
    "\n",
    "# Que: Lower the term, higher the installement means more burden to borrower. Lets validate that through data.\n",
    "\n",
    "# Que: Does grade and sub_grade shows any hint towards loan becoming charged off? Is Grade A means most reliable and grade\n",
    "#     grade E means less reliance or vice-versa?\n"
   ]
  },
  {
   "cell_type": "markdown",
   "id": "0ad68c09",
   "metadata": {},
   "source": [
    "### 4: Data Cleansing"
   ]
  },
  {
   "cell_type": "code",
   "execution_count": 4,
   "id": "b93f3e64",
   "metadata": {},
   "outputs": [
    {
     "name": "stdout",
     "output_type": "stream",
     "text": [
      "<class 'pandas.core.frame.DataFrame'>\n",
      "RangeIndex: 39717 entries, 0 to 39716\n",
      "Columns: 111 entries, id to total_il_high_credit_limit\n",
      "dtypes: float64(74), int64(13), object(24)\n",
      "memory usage: 33.6+ MB\n"
     ]
    }
   ],
   "source": [
    "# Get Info about the roes and columns\n",
    "df_loan.info()\n",
    "\n",
    "# Total Rows = 39717\n",
    "# Total Columns = 111\n",
    "# Data Types of Columns \n",
    " # Flaot = 74\n",
    " # Int = 13\n",
    " # Flaot = 24"
   ]
  },
  {
   "cell_type": "code",
   "execution_count": 5,
   "id": "7720443e",
   "metadata": {},
   "outputs": [
    {
     "data": {
      "text/html": [
       "<div>\n",
       "<style scoped>\n",
       "    .dataframe tbody tr th:only-of-type {\n",
       "        vertical-align: middle;\n",
       "    }\n",
       "\n",
       "    .dataframe tbody tr th {\n",
       "        vertical-align: top;\n",
       "    }\n",
       "\n",
       "    .dataframe thead th {\n",
       "        text-align: right;\n",
       "    }\n",
       "</style>\n",
       "<table border=\"1\" class=\"dataframe\">\n",
       "  <thead>\n",
       "    <tr style=\"text-align: right;\">\n",
       "      <th></th>\n",
       "      <th>id</th>\n",
       "      <th>member_id</th>\n",
       "      <th>loan_amnt</th>\n",
       "      <th>funded_amnt</th>\n",
       "      <th>funded_amnt_inv</th>\n",
       "      <th>term</th>\n",
       "      <th>int_rate</th>\n",
       "      <th>installment</th>\n",
       "      <th>grade</th>\n",
       "      <th>sub_grade</th>\n",
       "      <th>...</th>\n",
       "      <th>num_tl_90g_dpd_24m</th>\n",
       "      <th>num_tl_op_past_12m</th>\n",
       "      <th>pct_tl_nvr_dlq</th>\n",
       "      <th>percent_bc_gt_75</th>\n",
       "      <th>pub_rec_bankruptcies</th>\n",
       "      <th>tax_liens</th>\n",
       "      <th>tot_hi_cred_lim</th>\n",
       "      <th>total_bal_ex_mort</th>\n",
       "      <th>total_bc_limit</th>\n",
       "      <th>total_il_high_credit_limit</th>\n",
       "    </tr>\n",
       "  </thead>\n",
       "  <tbody>\n",
       "    <tr>\n",
       "      <th>0</th>\n",
       "      <td>1077501</td>\n",
       "      <td>1296599</td>\n",
       "      <td>5000</td>\n",
       "      <td>5000</td>\n",
       "      <td>4975.0</td>\n",
       "      <td>36 months</td>\n",
       "      <td>10.65%</td>\n",
       "      <td>162.87</td>\n",
       "      <td>B</td>\n",
       "      <td>B2</td>\n",
       "      <td>...</td>\n",
       "      <td>NaN</td>\n",
       "      <td>NaN</td>\n",
       "      <td>NaN</td>\n",
       "      <td>NaN</td>\n",
       "      <td>0.0</td>\n",
       "      <td>0.0</td>\n",
       "      <td>NaN</td>\n",
       "      <td>NaN</td>\n",
       "      <td>NaN</td>\n",
       "      <td>NaN</td>\n",
       "    </tr>\n",
       "    <tr>\n",
       "      <th>1</th>\n",
       "      <td>1077430</td>\n",
       "      <td>1314167</td>\n",
       "      <td>2500</td>\n",
       "      <td>2500</td>\n",
       "      <td>2500.0</td>\n",
       "      <td>60 months</td>\n",
       "      <td>15.27%</td>\n",
       "      <td>59.83</td>\n",
       "      <td>C</td>\n",
       "      <td>C4</td>\n",
       "      <td>...</td>\n",
       "      <td>NaN</td>\n",
       "      <td>NaN</td>\n",
       "      <td>NaN</td>\n",
       "      <td>NaN</td>\n",
       "      <td>0.0</td>\n",
       "      <td>0.0</td>\n",
       "      <td>NaN</td>\n",
       "      <td>NaN</td>\n",
       "      <td>NaN</td>\n",
       "      <td>NaN</td>\n",
       "    </tr>\n",
       "    <tr>\n",
       "      <th>2</th>\n",
       "      <td>1077175</td>\n",
       "      <td>1313524</td>\n",
       "      <td>2400</td>\n",
       "      <td>2400</td>\n",
       "      <td>2400.0</td>\n",
       "      <td>36 months</td>\n",
       "      <td>15.96%</td>\n",
       "      <td>84.33</td>\n",
       "      <td>C</td>\n",
       "      <td>C5</td>\n",
       "      <td>...</td>\n",
       "      <td>NaN</td>\n",
       "      <td>NaN</td>\n",
       "      <td>NaN</td>\n",
       "      <td>NaN</td>\n",
       "      <td>0.0</td>\n",
       "      <td>0.0</td>\n",
       "      <td>NaN</td>\n",
       "      <td>NaN</td>\n",
       "      <td>NaN</td>\n",
       "      <td>NaN</td>\n",
       "    </tr>\n",
       "    <tr>\n",
       "      <th>3</th>\n",
       "      <td>1076863</td>\n",
       "      <td>1277178</td>\n",
       "      <td>10000</td>\n",
       "      <td>10000</td>\n",
       "      <td>10000.0</td>\n",
       "      <td>36 months</td>\n",
       "      <td>13.49%</td>\n",
       "      <td>339.31</td>\n",
       "      <td>C</td>\n",
       "      <td>C1</td>\n",
       "      <td>...</td>\n",
       "      <td>NaN</td>\n",
       "      <td>NaN</td>\n",
       "      <td>NaN</td>\n",
       "      <td>NaN</td>\n",
       "      <td>0.0</td>\n",
       "      <td>0.0</td>\n",
       "      <td>NaN</td>\n",
       "      <td>NaN</td>\n",
       "      <td>NaN</td>\n",
       "      <td>NaN</td>\n",
       "    </tr>\n",
       "    <tr>\n",
       "      <th>4</th>\n",
       "      <td>1075358</td>\n",
       "      <td>1311748</td>\n",
       "      <td>3000</td>\n",
       "      <td>3000</td>\n",
       "      <td>3000.0</td>\n",
       "      <td>60 months</td>\n",
       "      <td>12.69%</td>\n",
       "      <td>67.79</td>\n",
       "      <td>B</td>\n",
       "      <td>B5</td>\n",
       "      <td>...</td>\n",
       "      <td>NaN</td>\n",
       "      <td>NaN</td>\n",
       "      <td>NaN</td>\n",
       "      <td>NaN</td>\n",
       "      <td>0.0</td>\n",
       "      <td>0.0</td>\n",
       "      <td>NaN</td>\n",
       "      <td>NaN</td>\n",
       "      <td>NaN</td>\n",
       "      <td>NaN</td>\n",
       "    </tr>\n",
       "    <tr>\n",
       "      <th>...</th>\n",
       "      <td>...</td>\n",
       "      <td>...</td>\n",
       "      <td>...</td>\n",
       "      <td>...</td>\n",
       "      <td>...</td>\n",
       "      <td>...</td>\n",
       "      <td>...</td>\n",
       "      <td>...</td>\n",
       "      <td>...</td>\n",
       "      <td>...</td>\n",
       "      <td>...</td>\n",
       "      <td>...</td>\n",
       "      <td>...</td>\n",
       "      <td>...</td>\n",
       "      <td>...</td>\n",
       "      <td>...</td>\n",
       "      <td>...</td>\n",
       "      <td>...</td>\n",
       "      <td>...</td>\n",
       "      <td>...</td>\n",
       "      <td>...</td>\n",
       "    </tr>\n",
       "    <tr>\n",
       "      <th>39712</th>\n",
       "      <td>92187</td>\n",
       "      <td>92174</td>\n",
       "      <td>2500</td>\n",
       "      <td>2500</td>\n",
       "      <td>1075.0</td>\n",
       "      <td>36 months</td>\n",
       "      <td>8.07%</td>\n",
       "      <td>78.42</td>\n",
       "      <td>A</td>\n",
       "      <td>A4</td>\n",
       "      <td>...</td>\n",
       "      <td>NaN</td>\n",
       "      <td>NaN</td>\n",
       "      <td>NaN</td>\n",
       "      <td>NaN</td>\n",
       "      <td>NaN</td>\n",
       "      <td>NaN</td>\n",
       "      <td>NaN</td>\n",
       "      <td>NaN</td>\n",
       "      <td>NaN</td>\n",
       "      <td>NaN</td>\n",
       "    </tr>\n",
       "    <tr>\n",
       "      <th>39713</th>\n",
       "      <td>90665</td>\n",
       "      <td>90607</td>\n",
       "      <td>8500</td>\n",
       "      <td>8500</td>\n",
       "      <td>875.0</td>\n",
       "      <td>36 months</td>\n",
       "      <td>10.28%</td>\n",
       "      <td>275.38</td>\n",
       "      <td>C</td>\n",
       "      <td>C1</td>\n",
       "      <td>...</td>\n",
       "      <td>NaN</td>\n",
       "      <td>NaN</td>\n",
       "      <td>NaN</td>\n",
       "      <td>NaN</td>\n",
       "      <td>NaN</td>\n",
       "      <td>NaN</td>\n",
       "      <td>NaN</td>\n",
       "      <td>NaN</td>\n",
       "      <td>NaN</td>\n",
       "      <td>NaN</td>\n",
       "    </tr>\n",
       "    <tr>\n",
       "      <th>39714</th>\n",
       "      <td>90395</td>\n",
       "      <td>90390</td>\n",
       "      <td>5000</td>\n",
       "      <td>5000</td>\n",
       "      <td>1325.0</td>\n",
       "      <td>36 months</td>\n",
       "      <td>8.07%</td>\n",
       "      <td>156.84</td>\n",
       "      <td>A</td>\n",
       "      <td>A4</td>\n",
       "      <td>...</td>\n",
       "      <td>NaN</td>\n",
       "      <td>NaN</td>\n",
       "      <td>NaN</td>\n",
       "      <td>NaN</td>\n",
       "      <td>NaN</td>\n",
       "      <td>NaN</td>\n",
       "      <td>NaN</td>\n",
       "      <td>NaN</td>\n",
       "      <td>NaN</td>\n",
       "      <td>NaN</td>\n",
       "    </tr>\n",
       "    <tr>\n",
       "      <th>39715</th>\n",
       "      <td>90376</td>\n",
       "      <td>89243</td>\n",
       "      <td>5000</td>\n",
       "      <td>5000</td>\n",
       "      <td>650.0</td>\n",
       "      <td>36 months</td>\n",
       "      <td>7.43%</td>\n",
       "      <td>155.38</td>\n",
       "      <td>A</td>\n",
       "      <td>A2</td>\n",
       "      <td>...</td>\n",
       "      <td>NaN</td>\n",
       "      <td>NaN</td>\n",
       "      <td>NaN</td>\n",
       "      <td>NaN</td>\n",
       "      <td>NaN</td>\n",
       "      <td>NaN</td>\n",
       "      <td>NaN</td>\n",
       "      <td>NaN</td>\n",
       "      <td>NaN</td>\n",
       "      <td>NaN</td>\n",
       "    </tr>\n",
       "    <tr>\n",
       "      <th>39716</th>\n",
       "      <td>87023</td>\n",
       "      <td>86999</td>\n",
       "      <td>7500</td>\n",
       "      <td>7500</td>\n",
       "      <td>800.0</td>\n",
       "      <td>36 months</td>\n",
       "      <td>13.75%</td>\n",
       "      <td>255.43</td>\n",
       "      <td>E</td>\n",
       "      <td>E2</td>\n",
       "      <td>...</td>\n",
       "      <td>NaN</td>\n",
       "      <td>NaN</td>\n",
       "      <td>NaN</td>\n",
       "      <td>NaN</td>\n",
       "      <td>NaN</td>\n",
       "      <td>NaN</td>\n",
       "      <td>NaN</td>\n",
       "      <td>NaN</td>\n",
       "      <td>NaN</td>\n",
       "      <td>NaN</td>\n",
       "    </tr>\n",
       "  </tbody>\n",
       "</table>\n",
       "<p>39717 rows × 111 columns</p>\n",
       "</div>"
      ],
      "text/plain": [
       "            id  member_id  loan_amnt  funded_amnt  funded_amnt_inv  \\\n",
       "0      1077501    1296599       5000         5000           4975.0   \n",
       "1      1077430    1314167       2500         2500           2500.0   \n",
       "2      1077175    1313524       2400         2400           2400.0   \n",
       "3      1076863    1277178      10000        10000          10000.0   \n",
       "4      1075358    1311748       3000         3000           3000.0   \n",
       "...        ...        ...        ...          ...              ...   \n",
       "39712    92187      92174       2500         2500           1075.0   \n",
       "39713    90665      90607       8500         8500            875.0   \n",
       "39714    90395      90390       5000         5000           1325.0   \n",
       "39715    90376      89243       5000         5000            650.0   \n",
       "39716    87023      86999       7500         7500            800.0   \n",
       "\n",
       "             term int_rate  installment grade sub_grade  ...  \\\n",
       "0       36 months   10.65%       162.87     B        B2  ...   \n",
       "1       60 months   15.27%        59.83     C        C4  ...   \n",
       "2       36 months   15.96%        84.33     C        C5  ...   \n",
       "3       36 months   13.49%       339.31     C        C1  ...   \n",
       "4       60 months   12.69%        67.79     B        B5  ...   \n",
       "...           ...      ...          ...   ...       ...  ...   \n",
       "39712   36 months    8.07%        78.42     A        A4  ...   \n",
       "39713   36 months   10.28%       275.38     C        C1  ...   \n",
       "39714   36 months    8.07%       156.84     A        A4  ...   \n",
       "39715   36 months    7.43%       155.38     A        A2  ...   \n",
       "39716   36 months   13.75%       255.43     E        E2  ...   \n",
       "\n",
       "      num_tl_90g_dpd_24m num_tl_op_past_12m pct_tl_nvr_dlq  percent_bc_gt_75  \\\n",
       "0                    NaN                NaN            NaN               NaN   \n",
       "1                    NaN                NaN            NaN               NaN   \n",
       "2                    NaN                NaN            NaN               NaN   \n",
       "3                    NaN                NaN            NaN               NaN   \n",
       "4                    NaN                NaN            NaN               NaN   \n",
       "...                  ...                ...            ...               ...   \n",
       "39712                NaN                NaN            NaN               NaN   \n",
       "39713                NaN                NaN            NaN               NaN   \n",
       "39714                NaN                NaN            NaN               NaN   \n",
       "39715                NaN                NaN            NaN               NaN   \n",
       "39716                NaN                NaN            NaN               NaN   \n",
       "\n",
       "      pub_rec_bankruptcies tax_liens tot_hi_cred_lim total_bal_ex_mort  \\\n",
       "0                      0.0       0.0             NaN               NaN   \n",
       "1                      0.0       0.0             NaN               NaN   \n",
       "2                      0.0       0.0             NaN               NaN   \n",
       "3                      0.0       0.0             NaN               NaN   \n",
       "4                      0.0       0.0             NaN               NaN   \n",
       "...                    ...       ...             ...               ...   \n",
       "39712                  NaN       NaN             NaN               NaN   \n",
       "39713                  NaN       NaN             NaN               NaN   \n",
       "39714                  NaN       NaN             NaN               NaN   \n",
       "39715                  NaN       NaN             NaN               NaN   \n",
       "39716                  NaN       NaN             NaN               NaN   \n",
       "\n",
       "      total_bc_limit total_il_high_credit_limit  \n",
       "0                NaN                        NaN  \n",
       "1                NaN                        NaN  \n",
       "2                NaN                        NaN  \n",
       "3                NaN                        NaN  \n",
       "4                NaN                        NaN  \n",
       "...              ...                        ...  \n",
       "39712            NaN                        NaN  \n",
       "39713            NaN                        NaN  \n",
       "39714            NaN                        NaN  \n",
       "39715            NaN                        NaN  \n",
       "39716            NaN                        NaN  \n",
       "\n",
       "[39717 rows x 111 columns]"
      ]
     },
     "execution_count": 5,
     "metadata": {},
     "output_type": "execute_result"
    }
   ],
   "source": [
    "# Drop duplicates rows if there are any\n",
    "df_loan.drop_duplicates() \n",
    "# No Duplidate rows found as count of rows is same even after deleting duplicates"
   ]
  },
  {
   "cell_type": "code",
   "execution_count": 6,
   "id": "8671eac0",
   "metadata": {},
   "outputs": [
    {
     "data": {
      "text/plain": [
       "id                            False\n",
       "member_id                     False\n",
       "loan_amnt                     False\n",
       "funded_amnt                   False\n",
       "funded_amnt_inv               False\n",
       "                              ...  \n",
       "tax_liens                      True\n",
       "tot_hi_cred_lim                True\n",
       "total_bal_ex_mort              True\n",
       "total_bc_limit                 True\n",
       "total_il_high_credit_limit     True\n",
       "Length: 111, dtype: bool"
      ]
     },
     "execution_count": 6,
     "metadata": {},
     "output_type": "execute_result"
    }
   ],
   "source": [
    "# Check for null columns\n",
    "df_loan.isnull().sum() > 0"
   ]
  },
  {
   "cell_type": "markdown",
   "id": "7bb4b0ed",
   "metadata": {},
   "source": [
    "#### Data Issues\n",
    "1. Multiple columns has NA values in all rows. These are junk columns \n",
    "2. As many columns doesn't have value at all, first remove columns and rows which has nothing but NA.\n",
    "3. Used ? to refresh syntax for 'how' and 'axis'"
   ]
  },
  {
   "cell_type": "code",
   "execution_count": 7,
   "id": "0afc6589",
   "metadata": {},
   "outputs": [],
   "source": [
    "#?df.dropna\n",
    "df_loan.dropna(how = 'all', inplace = True, axis = 1) # Removes all columns which has all NA \n",
    "df_loan.dropna(how = 'all', inplace = True, axis = 0) # Removes all rows which has all NA "
   ]
  },
  {
   "cell_type": "code",
   "execution_count": 8,
   "id": "0db0e581",
   "metadata": {},
   "outputs": [
    {
     "name": "stdout",
     "output_type": "stream",
     "text": [
      "<class 'pandas.core.frame.DataFrame'>\n",
      "Int64Index: 39717 entries, 0 to 39716\n",
      "Data columns (total 57 columns):\n",
      " #   Column                      Non-Null Count  Dtype  \n",
      "---  ------                      --------------  -----  \n",
      " 0   id                          39717 non-null  int64  \n",
      " 1   member_id                   39717 non-null  int64  \n",
      " 2   loan_amnt                   39717 non-null  int64  \n",
      " 3   funded_amnt                 39717 non-null  int64  \n",
      " 4   funded_amnt_inv             39717 non-null  float64\n",
      " 5   term                        39717 non-null  object \n",
      " 6   int_rate                    39717 non-null  object \n",
      " 7   installment                 39717 non-null  float64\n",
      " 8   grade                       39717 non-null  object \n",
      " 9   sub_grade                   39717 non-null  object \n",
      " 10  emp_title                   37258 non-null  object \n",
      " 11  emp_length                  38642 non-null  object \n",
      " 12  home_ownership              39717 non-null  object \n",
      " 13  annual_inc                  39717 non-null  float64\n",
      " 14  verification_status         39717 non-null  object \n",
      " 15  issue_d                     39717 non-null  object \n",
      " 16  loan_status                 39717 non-null  object \n",
      " 17  pymnt_plan                  39717 non-null  object \n",
      " 18  url                         39717 non-null  object \n",
      " 19  desc                        26777 non-null  object \n",
      " 20  purpose                     39717 non-null  object \n",
      " 21  title                       39706 non-null  object \n",
      " 22  zip_code                    39717 non-null  object \n",
      " 23  addr_state                  39717 non-null  object \n",
      " 24  dti                         39717 non-null  float64\n",
      " 25  delinq_2yrs                 39717 non-null  int64  \n",
      " 26  earliest_cr_line            39717 non-null  object \n",
      " 27  inq_last_6mths              39717 non-null  int64  \n",
      " 28  mths_since_last_delinq      14035 non-null  float64\n",
      " 29  mths_since_last_record      2786 non-null   float64\n",
      " 30  open_acc                    39717 non-null  int64  \n",
      " 31  pub_rec                     39717 non-null  int64  \n",
      " 32  revol_bal                   39717 non-null  int64  \n",
      " 33  revol_util                  39667 non-null  object \n",
      " 34  total_acc                   39717 non-null  int64  \n",
      " 35  initial_list_status         39717 non-null  object \n",
      " 36  out_prncp                   39717 non-null  float64\n",
      " 37  out_prncp_inv               39717 non-null  float64\n",
      " 38  total_pymnt                 39717 non-null  float64\n",
      " 39  total_pymnt_inv             39717 non-null  float64\n",
      " 40  total_rec_prncp             39717 non-null  float64\n",
      " 41  total_rec_int               39717 non-null  float64\n",
      " 42  total_rec_late_fee          39717 non-null  float64\n",
      " 43  recoveries                  39717 non-null  float64\n",
      " 44  collection_recovery_fee     39717 non-null  float64\n",
      " 45  last_pymnt_d                39646 non-null  object \n",
      " 46  last_pymnt_amnt             39717 non-null  float64\n",
      " 47  next_pymnt_d                1140 non-null   object \n",
      " 48  last_credit_pull_d          39715 non-null  object \n",
      " 49  collections_12_mths_ex_med  39661 non-null  float64\n",
      " 50  policy_code                 39717 non-null  int64  \n",
      " 51  application_type            39717 non-null  object \n",
      " 52  acc_now_delinq              39717 non-null  int64  \n",
      " 53  chargeoff_within_12_mths    39661 non-null  float64\n",
      " 54  delinq_amnt                 39717 non-null  int64  \n",
      " 55  pub_rec_bankruptcies        39020 non-null  float64\n",
      " 56  tax_liens                   39678 non-null  float64\n",
      "dtypes: float64(20), int64(13), object(24)\n",
      "memory usage: 17.6+ MB\n"
     ]
    }
   ],
   "source": [
    "# Check Info about the rows and columns again after clensing \n",
    "df_loan.info()\n",
    "# Total Rows = 39717\n",
    "# Total Columns left = 57"
   ]
  },
  {
   "cell_type": "code",
   "execution_count": 9,
   "id": "2e35c7d4",
   "metadata": {},
   "outputs": [],
   "source": [
    "# Delete other data which doesn't play role in loan getting defaults\n",
    "# Below parameters are taken into consideration before deciding on what data is not required.\n",
    "#  1. Data which doesn't play role in loan repayment. Example: url, desc, title,last_pymnt_amnt etc.\n",
    "#  2. Data which has same value for all rows thus doesn't affect loan status. Example: 'pymnt_plan'.\n",
    "\n",
    "df_loan.drop(columns = ['member_id','application_type','policy_code','collections_12_mths_ex_med','last_credit_pull_d','next_pymnt_d',\n",
    "                'last_pymnt_amnt','last_pymnt_d','collection_recovery_fee','recoveries',\n",
    "                 'total_rec_late_fee','total_rec_int','total_rec_prncp','total_pymnt_inv',\n",
    "                 'total_pymnt','out_prncp_inv','out_prncp','initial_list_status','total_acc','revol_util','revol_bal',\n",
    "                 'mths_since_last_record','mths_since_last_delinq','earliest_cr_line','delinq_2yrs','zip_code','title','desc',\n",
    "                  'url','pymnt_plan','emp_title','chargeoff_within_12_mths','delinq_amnt','pub_rec_bankruptcies','tax_liens'],inplace = True)\n",
    "\n"
   ]
  },
  {
   "cell_type": "code",
   "execution_count": 10,
   "id": "bbc9f792",
   "metadata": {},
   "outputs": [
    {
     "name": "stdout",
     "output_type": "stream",
     "text": [
      "<class 'pandas.core.frame.DataFrame'>\n",
      "Int64Index: 39717 entries, 0 to 39716\n",
      "Data columns (total 22 columns):\n",
      " #   Column               Non-Null Count  Dtype  \n",
      "---  ------               --------------  -----  \n",
      " 0   id                   39717 non-null  int64  \n",
      " 1   loan_amnt            39717 non-null  int64  \n",
      " 2   funded_amnt          39717 non-null  int64  \n",
      " 3   funded_amnt_inv      39717 non-null  float64\n",
      " 4   term                 39717 non-null  object \n",
      " 5   int_rate             39717 non-null  object \n",
      " 6   installment          39717 non-null  float64\n",
      " 7   grade                39717 non-null  object \n",
      " 8   sub_grade            39717 non-null  object \n",
      " 9   emp_length           38642 non-null  object \n",
      " 10  home_ownership       39717 non-null  object \n",
      " 11  annual_inc           39717 non-null  float64\n",
      " 12  verification_status  39717 non-null  object \n",
      " 13  issue_d              39717 non-null  object \n",
      " 14  loan_status          39717 non-null  object \n",
      " 15  purpose              39717 non-null  object \n",
      " 16  addr_state           39717 non-null  object \n",
      " 17  dti                  39717 non-null  float64\n",
      " 18  inq_last_6mths       39717 non-null  int64  \n",
      " 19  open_acc             39717 non-null  int64  \n",
      " 20  pub_rec              39717 non-null  int64  \n",
      " 21  acc_now_delinq       39717 non-null  int64  \n",
      "dtypes: float64(4), int64(7), object(11)\n",
      "memory usage: 7.0+ MB\n"
     ]
    }
   ],
   "source": [
    "# Check Info about the rows and columns again after clensing \n",
    "df_loan.info()\n",
    "# Total Rows = 39717\n",
    "# Total Columns left = 22"
   ]
  },
  {
   "cell_type": "code",
   "execution_count": 11,
   "id": "98c07df7",
   "metadata": {},
   "outputs": [
    {
     "data": {
      "text/html": [
       "<div>\n",
       "<style scoped>\n",
       "    .dataframe tbody tr th:only-of-type {\n",
       "        vertical-align: middle;\n",
       "    }\n",
       "\n",
       "    .dataframe tbody tr th {\n",
       "        vertical-align: top;\n",
       "    }\n",
       "\n",
       "    .dataframe thead th {\n",
       "        text-align: right;\n",
       "    }\n",
       "</style>\n",
       "<table border=\"1\" class=\"dataframe\">\n",
       "  <thead>\n",
       "    <tr style=\"text-align: right;\">\n",
       "      <th></th>\n",
       "      <th>id</th>\n",
       "      <th>loan_amnt</th>\n",
       "      <th>funded_amnt</th>\n",
       "      <th>funded_amnt_inv</th>\n",
       "      <th>term</th>\n",
       "      <th>int_rate</th>\n",
       "      <th>installment</th>\n",
       "      <th>grade</th>\n",
       "      <th>sub_grade</th>\n",
       "      <th>emp_length</th>\n",
       "      <th>...</th>\n",
       "      <th>verification_status</th>\n",
       "      <th>issue_d</th>\n",
       "      <th>loan_status</th>\n",
       "      <th>purpose</th>\n",
       "      <th>addr_state</th>\n",
       "      <th>dti</th>\n",
       "      <th>inq_last_6mths</th>\n",
       "      <th>open_acc</th>\n",
       "      <th>pub_rec</th>\n",
       "      <th>acc_now_delinq</th>\n",
       "    </tr>\n",
       "  </thead>\n",
       "  <tbody>\n",
       "    <tr>\n",
       "      <th>0</th>\n",
       "      <td>1077501</td>\n",
       "      <td>5000</td>\n",
       "      <td>5000</td>\n",
       "      <td>4975.0</td>\n",
       "      <td>36 months</td>\n",
       "      <td>10.65%</td>\n",
       "      <td>162.87</td>\n",
       "      <td>B</td>\n",
       "      <td>B2</td>\n",
       "      <td>10+ years</td>\n",
       "      <td>...</td>\n",
       "      <td>Verified</td>\n",
       "      <td>Dec-11</td>\n",
       "      <td>Fully Paid</td>\n",
       "      <td>credit_card</td>\n",
       "      <td>AZ</td>\n",
       "      <td>27.65</td>\n",
       "      <td>1</td>\n",
       "      <td>3</td>\n",
       "      <td>0</td>\n",
       "      <td>0</td>\n",
       "    </tr>\n",
       "    <tr>\n",
       "      <th>1</th>\n",
       "      <td>1077430</td>\n",
       "      <td>2500</td>\n",
       "      <td>2500</td>\n",
       "      <td>2500.0</td>\n",
       "      <td>60 months</td>\n",
       "      <td>15.27%</td>\n",
       "      <td>59.83</td>\n",
       "      <td>C</td>\n",
       "      <td>C4</td>\n",
       "      <td>&lt; 1 year</td>\n",
       "      <td>...</td>\n",
       "      <td>Source Verified</td>\n",
       "      <td>Dec-11</td>\n",
       "      <td>Charged Off</td>\n",
       "      <td>car</td>\n",
       "      <td>GA</td>\n",
       "      <td>1.00</td>\n",
       "      <td>5</td>\n",
       "      <td>3</td>\n",
       "      <td>0</td>\n",
       "      <td>0</td>\n",
       "    </tr>\n",
       "    <tr>\n",
       "      <th>2</th>\n",
       "      <td>1077175</td>\n",
       "      <td>2400</td>\n",
       "      <td>2400</td>\n",
       "      <td>2400.0</td>\n",
       "      <td>36 months</td>\n",
       "      <td>15.96%</td>\n",
       "      <td>84.33</td>\n",
       "      <td>C</td>\n",
       "      <td>C5</td>\n",
       "      <td>10+ years</td>\n",
       "      <td>...</td>\n",
       "      <td>Not Verified</td>\n",
       "      <td>Dec-11</td>\n",
       "      <td>Fully Paid</td>\n",
       "      <td>small_business</td>\n",
       "      <td>IL</td>\n",
       "      <td>8.72</td>\n",
       "      <td>2</td>\n",
       "      <td>2</td>\n",
       "      <td>0</td>\n",
       "      <td>0</td>\n",
       "    </tr>\n",
       "    <tr>\n",
       "      <th>3</th>\n",
       "      <td>1076863</td>\n",
       "      <td>10000</td>\n",
       "      <td>10000</td>\n",
       "      <td>10000.0</td>\n",
       "      <td>36 months</td>\n",
       "      <td>13.49%</td>\n",
       "      <td>339.31</td>\n",
       "      <td>C</td>\n",
       "      <td>C1</td>\n",
       "      <td>10+ years</td>\n",
       "      <td>...</td>\n",
       "      <td>Source Verified</td>\n",
       "      <td>Dec-11</td>\n",
       "      <td>Fully Paid</td>\n",
       "      <td>other</td>\n",
       "      <td>CA</td>\n",
       "      <td>20.00</td>\n",
       "      <td>1</td>\n",
       "      <td>10</td>\n",
       "      <td>0</td>\n",
       "      <td>0</td>\n",
       "    </tr>\n",
       "    <tr>\n",
       "      <th>4</th>\n",
       "      <td>1075358</td>\n",
       "      <td>3000</td>\n",
       "      <td>3000</td>\n",
       "      <td>3000.0</td>\n",
       "      <td>60 months</td>\n",
       "      <td>12.69%</td>\n",
       "      <td>67.79</td>\n",
       "      <td>B</td>\n",
       "      <td>B5</td>\n",
       "      <td>1 year</td>\n",
       "      <td>...</td>\n",
       "      <td>Source Verified</td>\n",
       "      <td>Dec-11</td>\n",
       "      <td>Current</td>\n",
       "      <td>other</td>\n",
       "      <td>OR</td>\n",
       "      <td>17.94</td>\n",
       "      <td>0</td>\n",
       "      <td>15</td>\n",
       "      <td>0</td>\n",
       "      <td>0</td>\n",
       "    </tr>\n",
       "  </tbody>\n",
       "</table>\n",
       "<p>5 rows × 22 columns</p>\n",
       "</div>"
      ],
      "text/plain": [
       "        id  loan_amnt  funded_amnt  funded_amnt_inv        term int_rate  \\\n",
       "0  1077501       5000         5000           4975.0   36 months   10.65%   \n",
       "1  1077430       2500         2500           2500.0   60 months   15.27%   \n",
       "2  1077175       2400         2400           2400.0   36 months   15.96%   \n",
       "3  1076863      10000        10000          10000.0   36 months   13.49%   \n",
       "4  1075358       3000         3000           3000.0   60 months   12.69%   \n",
       "\n",
       "   installment grade sub_grade emp_length  ... verification_status  issue_d  \\\n",
       "0       162.87     B        B2  10+ years  ...            Verified   Dec-11   \n",
       "1        59.83     C        C4   < 1 year  ...     Source Verified   Dec-11   \n",
       "2        84.33     C        C5  10+ years  ...        Not Verified   Dec-11   \n",
       "3       339.31     C        C1  10+ years  ...     Source Verified   Dec-11   \n",
       "4        67.79     B        B5     1 year  ...     Source Verified   Dec-11   \n",
       "\n",
       "   loan_status         purpose addr_state    dti inq_last_6mths  open_acc  \\\n",
       "0   Fully Paid     credit_card         AZ  27.65              1         3   \n",
       "1  Charged Off             car         GA   1.00              5         3   \n",
       "2   Fully Paid  small_business         IL   8.72              2         2   \n",
       "3   Fully Paid           other         CA  20.00              1        10   \n",
       "4      Current           other         OR  17.94              0        15   \n",
       "\n",
       "   pub_rec  acc_now_delinq  \n",
       "0        0               0  \n",
       "1        0               0  \n",
       "2        0               0  \n",
       "3        0               0  \n",
       "4        0               0  \n",
       "\n",
       "[5 rows x 22 columns]"
      ]
     },
     "execution_count": 11,
     "metadata": {},
     "output_type": "execute_result"
    }
   ],
   "source": [
    "# View data again. It looks much cleaner now with less columns.\n",
    "df_loan.head()"
   ]
  },
  {
   "cell_type": "markdown",
   "id": "a72fe78a",
   "metadata": {},
   "source": [
    "#### Fixing Columns"
   ]
  },
  {
   "cell_type": "code",
   "execution_count": 12,
   "id": "159360ca",
   "metadata": {},
   "outputs": [],
   "source": [
    "#Formating Column 'term'\n",
    "\n",
    "df_loan['term_in_months'] = df_loan.term.apply(lambda x: int(x.replace(\"months\",\"\"))) # Add new column term_in_months with number of month alone with text 'months'. Convert column into int.\n",
    "df_loan.drop(columns = ['term'], inplace = True)    # Drop existing column"
   ]
  },
  {
   "cell_type": "code",
   "execution_count": 13,
   "id": "647c6122",
   "metadata": {},
   "outputs": [],
   "source": [
    "#Formating Column 'int_rate'\n",
    "df_loan.int_rate = df_loan.int_rate.apply(lambda x: float(x.replace(\"%\",\"\"))) # Remove % from column and convert into float"
   ]
  },
  {
   "cell_type": "code",
   "execution_count": 14,
   "id": "a52b32d3",
   "metadata": {},
   "outputs": [
    {
     "data": {
      "text/html": [
       "<div>\n",
       "<style scoped>\n",
       "    .dataframe tbody tr th:only-of-type {\n",
       "        vertical-align: middle;\n",
       "    }\n",
       "\n",
       "    .dataframe tbody tr th {\n",
       "        vertical-align: top;\n",
       "    }\n",
       "\n",
       "    .dataframe thead th {\n",
       "        text-align: right;\n",
       "    }\n",
       "</style>\n",
       "<table border=\"1\" class=\"dataframe\">\n",
       "  <thead>\n",
       "    <tr style=\"text-align: right;\">\n",
       "      <th></th>\n",
       "      <th>id</th>\n",
       "      <th>loan_amnt</th>\n",
       "      <th>funded_amnt</th>\n",
       "      <th>funded_amnt_inv</th>\n",
       "      <th>int_rate</th>\n",
       "      <th>installment</th>\n",
       "      <th>annual_inc</th>\n",
       "      <th>dti</th>\n",
       "      <th>inq_last_6mths</th>\n",
       "      <th>open_acc</th>\n",
       "      <th>pub_rec</th>\n",
       "      <th>acc_now_delinq</th>\n",
       "      <th>term_in_months</th>\n",
       "    </tr>\n",
       "  </thead>\n",
       "  <tbody>\n",
       "    <tr>\n",
       "      <th>count</th>\n",
       "      <td>3.971700e+04</td>\n",
       "      <td>39717.000000</td>\n",
       "      <td>39717.000000</td>\n",
       "      <td>39717.000000</td>\n",
       "      <td>39717.000000</td>\n",
       "      <td>39717.000000</td>\n",
       "      <td>3.971700e+04</td>\n",
       "      <td>39717.000000</td>\n",
       "      <td>39717.000000</td>\n",
       "      <td>39717.000000</td>\n",
       "      <td>39717.000000</td>\n",
       "      <td>39717.0</td>\n",
       "      <td>39717.000000</td>\n",
       "    </tr>\n",
       "    <tr>\n",
       "      <th>mean</th>\n",
       "      <td>6.831319e+05</td>\n",
       "      <td>11219.443815</td>\n",
       "      <td>10947.713196</td>\n",
       "      <td>10397.448868</td>\n",
       "      <td>12.021177</td>\n",
       "      <td>324.561922</td>\n",
       "      <td>6.896893e+04</td>\n",
       "      <td>13.315130</td>\n",
       "      <td>0.869200</td>\n",
       "      <td>9.294408</td>\n",
       "      <td>0.055065</td>\n",
       "      <td>0.0</td>\n",
       "      <td>42.418007</td>\n",
       "    </tr>\n",
       "    <tr>\n",
       "      <th>std</th>\n",
       "      <td>2.106941e+05</td>\n",
       "      <td>7456.670694</td>\n",
       "      <td>7187.238670</td>\n",
       "      <td>7128.450439</td>\n",
       "      <td>3.724825</td>\n",
       "      <td>208.874874</td>\n",
       "      <td>6.379377e+04</td>\n",
       "      <td>6.678594</td>\n",
       "      <td>1.070219</td>\n",
       "      <td>4.400282</td>\n",
       "      <td>0.237200</td>\n",
       "      <td>0.0</td>\n",
       "      <td>10.622815</td>\n",
       "    </tr>\n",
       "    <tr>\n",
       "      <th>min</th>\n",
       "      <td>5.473400e+04</td>\n",
       "      <td>500.000000</td>\n",
       "      <td>500.000000</td>\n",
       "      <td>0.000000</td>\n",
       "      <td>5.420000</td>\n",
       "      <td>15.690000</td>\n",
       "      <td>4.000000e+03</td>\n",
       "      <td>0.000000</td>\n",
       "      <td>0.000000</td>\n",
       "      <td>2.000000</td>\n",
       "      <td>0.000000</td>\n",
       "      <td>0.0</td>\n",
       "      <td>36.000000</td>\n",
       "    </tr>\n",
       "    <tr>\n",
       "      <th>25%</th>\n",
       "      <td>5.162210e+05</td>\n",
       "      <td>5500.000000</td>\n",
       "      <td>5400.000000</td>\n",
       "      <td>5000.000000</td>\n",
       "      <td>9.250000</td>\n",
       "      <td>167.020000</td>\n",
       "      <td>4.040400e+04</td>\n",
       "      <td>8.170000</td>\n",
       "      <td>0.000000</td>\n",
       "      <td>6.000000</td>\n",
       "      <td>0.000000</td>\n",
       "      <td>0.0</td>\n",
       "      <td>36.000000</td>\n",
       "    </tr>\n",
       "    <tr>\n",
       "      <th>50%</th>\n",
       "      <td>6.656650e+05</td>\n",
       "      <td>10000.000000</td>\n",
       "      <td>9600.000000</td>\n",
       "      <td>8975.000000</td>\n",
       "      <td>11.860000</td>\n",
       "      <td>280.220000</td>\n",
       "      <td>5.900000e+04</td>\n",
       "      <td>13.400000</td>\n",
       "      <td>1.000000</td>\n",
       "      <td>9.000000</td>\n",
       "      <td>0.000000</td>\n",
       "      <td>0.0</td>\n",
       "      <td>36.000000</td>\n",
       "    </tr>\n",
       "    <tr>\n",
       "      <th>75%</th>\n",
       "      <td>8.377550e+05</td>\n",
       "      <td>15000.000000</td>\n",
       "      <td>15000.000000</td>\n",
       "      <td>14400.000000</td>\n",
       "      <td>14.590000</td>\n",
       "      <td>430.780000</td>\n",
       "      <td>8.230000e+04</td>\n",
       "      <td>18.600000</td>\n",
       "      <td>1.000000</td>\n",
       "      <td>12.000000</td>\n",
       "      <td>0.000000</td>\n",
       "      <td>0.0</td>\n",
       "      <td>60.000000</td>\n",
       "    </tr>\n",
       "    <tr>\n",
       "      <th>max</th>\n",
       "      <td>1.077501e+06</td>\n",
       "      <td>35000.000000</td>\n",
       "      <td>35000.000000</td>\n",
       "      <td>35000.000000</td>\n",
       "      <td>24.590000</td>\n",
       "      <td>1305.190000</td>\n",
       "      <td>6.000000e+06</td>\n",
       "      <td>29.990000</td>\n",
       "      <td>8.000000</td>\n",
       "      <td>44.000000</td>\n",
       "      <td>4.000000</td>\n",
       "      <td>0.0</td>\n",
       "      <td>60.000000</td>\n",
       "    </tr>\n",
       "  </tbody>\n",
       "</table>\n",
       "</div>"
      ],
      "text/plain": [
       "                 id     loan_amnt   funded_amnt  funded_amnt_inv  \\\n",
       "count  3.971700e+04  39717.000000  39717.000000     39717.000000   \n",
       "mean   6.831319e+05  11219.443815  10947.713196     10397.448868   \n",
       "std    2.106941e+05   7456.670694   7187.238670      7128.450439   \n",
       "min    5.473400e+04    500.000000    500.000000         0.000000   \n",
       "25%    5.162210e+05   5500.000000   5400.000000      5000.000000   \n",
       "50%    6.656650e+05  10000.000000   9600.000000      8975.000000   \n",
       "75%    8.377550e+05  15000.000000  15000.000000     14400.000000   \n",
       "max    1.077501e+06  35000.000000  35000.000000     35000.000000   \n",
       "\n",
       "           int_rate   installment    annual_inc           dti  inq_last_6mths  \\\n",
       "count  39717.000000  39717.000000  3.971700e+04  39717.000000    39717.000000   \n",
       "mean      12.021177    324.561922  6.896893e+04     13.315130        0.869200   \n",
       "std        3.724825    208.874874  6.379377e+04      6.678594        1.070219   \n",
       "min        5.420000     15.690000  4.000000e+03      0.000000        0.000000   \n",
       "25%        9.250000    167.020000  4.040400e+04      8.170000        0.000000   \n",
       "50%       11.860000    280.220000  5.900000e+04     13.400000        1.000000   \n",
       "75%       14.590000    430.780000  8.230000e+04     18.600000        1.000000   \n",
       "max       24.590000   1305.190000  6.000000e+06     29.990000        8.000000   \n",
       "\n",
       "           open_acc       pub_rec  acc_now_delinq  term_in_months  \n",
       "count  39717.000000  39717.000000         39717.0    39717.000000  \n",
       "mean       9.294408      0.055065             0.0       42.418007  \n",
       "std        4.400282      0.237200             0.0       10.622815  \n",
       "min        2.000000      0.000000             0.0       36.000000  \n",
       "25%        6.000000      0.000000             0.0       36.000000  \n",
       "50%        9.000000      0.000000             0.0       36.000000  \n",
       "75%       12.000000      0.000000             0.0       60.000000  \n",
       "max       44.000000      4.000000             0.0       60.000000  "
      ]
     },
     "execution_count": 14,
     "metadata": {},
     "output_type": "execute_result"
    }
   ],
   "source": [
    "df_loan.describe()"
   ]
  },
  {
   "cell_type": "code",
   "execution_count": 15,
   "id": "6af00072",
   "metadata": {},
   "outputs": [
    {
     "data": {
      "text/plain": [
       "0        163.0\n",
       "1         60.0\n",
       "2         84.0\n",
       "3        339.0\n",
       "4         68.0\n",
       "         ...  \n",
       "39712     78.0\n",
       "39713    275.0\n",
       "39714    157.0\n",
       "39715    155.0\n",
       "39716    255.0\n",
       "Name: installment, Length: 39717, dtype: float64"
      ]
     },
     "execution_count": 15,
     "metadata": {},
     "output_type": "execute_result"
    }
   ],
   "source": [
    "#Round values to 0 decimal places in Column 'loan_amnt', 'funded_amnt' funded_amnt_inv', annual_inc,installment\n",
    "df_loan.loan_amnt.round(decimals=0)\n",
    "df_loan.funded_amnt.round(decimals=0)\n",
    "df_loan.funded_amnt_inv.round(decimals=0)\n",
    "df_loan.annual_inc.round(decimals=0)\n",
    "df_loan.installment.round(decimals=0)"
   ]
  },
  {
   "cell_type": "code",
   "execution_count": 16,
   "id": "510df435",
   "metadata": {},
   "outputs": [
    {
     "data": {
      "text/plain": [
       "0.9400335348163552"
      ]
     },
     "execution_count": 16,
     "metadata": {},
     "output_type": "execute_result"
    }
   ],
   "source": [
    "# loan_amnt is the amount borrower asked for.\n",
    "# funded_amnt is the amount Bank agreed for after calculating limit \n",
    "# funded_amnt_inv is the actual amount disbursed by bank to the borrwer. This is the amount finally release by bank\n",
    "# and fully paid/charged off refer this amount from going forward.\n",
    "\n",
    "# Finding correlation between all 3 columns before deciding to delete loan_amnt and funded_amnt\n",
    "df_loan.funded_amnt_inv.corr(df_loan.loan_amnt)\n"
   ]
  },
  {
   "cell_type": "code",
   "execution_count": 17,
   "id": "a4fd77a0",
   "metadata": {},
   "outputs": [
    {
     "data": {
      "text/plain": [
       "0.9584219767408838"
      ]
     },
     "execution_count": 17,
     "metadata": {},
     "output_type": "execute_result"
    }
   ],
   "source": [
    "df_loan.funded_amnt_inv.corr(df_loan.funded_amnt)"
   ]
  },
  {
   "cell_type": "code",
   "execution_count": 18,
   "id": "29970521",
   "metadata": {},
   "outputs": [],
   "source": [
    "# As 3 columns are highly corelated. 'funded_amnt_inv' can be considered and rest 2 can be deleted.\n",
    "df_loan.drop(columns = ['loan_amnt','funded_amnt'],inplace = True)"
   ]
  },
  {
   "cell_type": "code",
   "execution_count": 19,
   "id": "663ceb39",
   "metadata": {},
   "outputs": [
    {
     "data": {
      "text/html": [
       "<div>\n",
       "<style scoped>\n",
       "    .dataframe tbody tr th:only-of-type {\n",
       "        vertical-align: middle;\n",
       "    }\n",
       "\n",
       "    .dataframe tbody tr th {\n",
       "        vertical-align: top;\n",
       "    }\n",
       "\n",
       "    .dataframe thead th {\n",
       "        text-align: right;\n",
       "    }\n",
       "</style>\n",
       "<table border=\"1\" class=\"dataframe\">\n",
       "  <thead>\n",
       "    <tr style=\"text-align: right;\">\n",
       "      <th></th>\n",
       "      <th>id</th>\n",
       "      <th>funded_amnt_inv</th>\n",
       "      <th>int_rate</th>\n",
       "      <th>installment</th>\n",
       "      <th>grade</th>\n",
       "      <th>sub_grade</th>\n",
       "      <th>emp_length</th>\n",
       "      <th>home_ownership</th>\n",
       "      <th>annual_inc</th>\n",
       "      <th>verification_status</th>\n",
       "      <th>issue_d</th>\n",
       "      <th>loan_status</th>\n",
       "      <th>purpose</th>\n",
       "      <th>addr_state</th>\n",
       "      <th>dti</th>\n",
       "      <th>inq_last_6mths</th>\n",
       "      <th>open_acc</th>\n",
       "      <th>pub_rec</th>\n",
       "      <th>acc_now_delinq</th>\n",
       "      <th>term_in_months</th>\n",
       "    </tr>\n",
       "  </thead>\n",
       "  <tbody>\n",
       "    <tr>\n",
       "      <th>0</th>\n",
       "      <td>1077501</td>\n",
       "      <td>4975.0</td>\n",
       "      <td>10.65</td>\n",
       "      <td>162.87</td>\n",
       "      <td>B</td>\n",
       "      <td>B2</td>\n",
       "      <td>10+ years</td>\n",
       "      <td>RENT</td>\n",
       "      <td>24000.0</td>\n",
       "      <td>Verified</td>\n",
       "      <td>Dec-11</td>\n",
       "      <td>Fully Paid</td>\n",
       "      <td>credit_card</td>\n",
       "      <td>AZ</td>\n",
       "      <td>27.65</td>\n",
       "      <td>1</td>\n",
       "      <td>3</td>\n",
       "      <td>0</td>\n",
       "      <td>0</td>\n",
       "      <td>36</td>\n",
       "    </tr>\n",
       "    <tr>\n",
       "      <th>1</th>\n",
       "      <td>1077430</td>\n",
       "      <td>2500.0</td>\n",
       "      <td>15.27</td>\n",
       "      <td>59.83</td>\n",
       "      <td>C</td>\n",
       "      <td>C4</td>\n",
       "      <td>&lt; 1 year</td>\n",
       "      <td>RENT</td>\n",
       "      <td>30000.0</td>\n",
       "      <td>Source Verified</td>\n",
       "      <td>Dec-11</td>\n",
       "      <td>Charged Off</td>\n",
       "      <td>car</td>\n",
       "      <td>GA</td>\n",
       "      <td>1.00</td>\n",
       "      <td>5</td>\n",
       "      <td>3</td>\n",
       "      <td>0</td>\n",
       "      <td>0</td>\n",
       "      <td>60</td>\n",
       "    </tr>\n",
       "    <tr>\n",
       "      <th>2</th>\n",
       "      <td>1077175</td>\n",
       "      <td>2400.0</td>\n",
       "      <td>15.96</td>\n",
       "      <td>84.33</td>\n",
       "      <td>C</td>\n",
       "      <td>C5</td>\n",
       "      <td>10+ years</td>\n",
       "      <td>RENT</td>\n",
       "      <td>12252.0</td>\n",
       "      <td>Not Verified</td>\n",
       "      <td>Dec-11</td>\n",
       "      <td>Fully Paid</td>\n",
       "      <td>small_business</td>\n",
       "      <td>IL</td>\n",
       "      <td>8.72</td>\n",
       "      <td>2</td>\n",
       "      <td>2</td>\n",
       "      <td>0</td>\n",
       "      <td>0</td>\n",
       "      <td>36</td>\n",
       "    </tr>\n",
       "    <tr>\n",
       "      <th>3</th>\n",
       "      <td>1076863</td>\n",
       "      <td>10000.0</td>\n",
       "      <td>13.49</td>\n",
       "      <td>339.31</td>\n",
       "      <td>C</td>\n",
       "      <td>C1</td>\n",
       "      <td>10+ years</td>\n",
       "      <td>RENT</td>\n",
       "      <td>49200.0</td>\n",
       "      <td>Source Verified</td>\n",
       "      <td>Dec-11</td>\n",
       "      <td>Fully Paid</td>\n",
       "      <td>other</td>\n",
       "      <td>CA</td>\n",
       "      <td>20.00</td>\n",
       "      <td>1</td>\n",
       "      <td>10</td>\n",
       "      <td>0</td>\n",
       "      <td>0</td>\n",
       "      <td>36</td>\n",
       "    </tr>\n",
       "    <tr>\n",
       "      <th>4</th>\n",
       "      <td>1075358</td>\n",
       "      <td>3000.0</td>\n",
       "      <td>12.69</td>\n",
       "      <td>67.79</td>\n",
       "      <td>B</td>\n",
       "      <td>B5</td>\n",
       "      <td>1 year</td>\n",
       "      <td>RENT</td>\n",
       "      <td>80000.0</td>\n",
       "      <td>Source Verified</td>\n",
       "      <td>Dec-11</td>\n",
       "      <td>Current</td>\n",
       "      <td>other</td>\n",
       "      <td>OR</td>\n",
       "      <td>17.94</td>\n",
       "      <td>0</td>\n",
       "      <td>15</td>\n",
       "      <td>0</td>\n",
       "      <td>0</td>\n",
       "      <td>60</td>\n",
       "    </tr>\n",
       "  </tbody>\n",
       "</table>\n",
       "</div>"
      ],
      "text/plain": [
       "        id  funded_amnt_inv  int_rate  installment grade sub_grade emp_length  \\\n",
       "0  1077501           4975.0     10.65       162.87     B        B2  10+ years   \n",
       "1  1077430           2500.0     15.27        59.83     C        C4   < 1 year   \n",
       "2  1077175           2400.0     15.96        84.33     C        C5  10+ years   \n",
       "3  1076863          10000.0     13.49       339.31     C        C1  10+ years   \n",
       "4  1075358           3000.0     12.69        67.79     B        B5     1 year   \n",
       "\n",
       "  home_ownership  annual_inc verification_status issue_d  loan_status  \\\n",
       "0           RENT     24000.0            Verified  Dec-11   Fully Paid   \n",
       "1           RENT     30000.0     Source Verified  Dec-11  Charged Off   \n",
       "2           RENT     12252.0        Not Verified  Dec-11   Fully Paid   \n",
       "3           RENT     49200.0     Source Verified  Dec-11   Fully Paid   \n",
       "4           RENT     80000.0     Source Verified  Dec-11      Current   \n",
       "\n",
       "          purpose addr_state    dti  inq_last_6mths  open_acc  pub_rec  \\\n",
       "0     credit_card         AZ  27.65               1         3        0   \n",
       "1             car         GA   1.00               5         3        0   \n",
       "2  small_business         IL   8.72               2         2        0   \n",
       "3           other         CA  20.00               1        10        0   \n",
       "4           other         OR  17.94               0        15        0   \n",
       "\n",
       "   acc_now_delinq  term_in_months  \n",
       "0               0              36  \n",
       "1               0              60  \n",
       "2               0              36  \n",
       "3               0              36  \n",
       "4               0              60  "
      ]
     },
     "execution_count": 19,
     "metadata": {},
     "output_type": "execute_result"
    }
   ],
   "source": [
    "df_loan.head()"
   ]
  },
  {
   "cell_type": "markdown",
   "id": "df5384b9",
   "metadata": {},
   "source": [
    "#### Fixing Rows"
   ]
  },
  {
   "cell_type": "code",
   "execution_count": 20,
   "id": "c06f7cb3",
   "metadata": {},
   "outputs": [],
   "source": [
    "# Remove row items with loan_status = 'current' as these loans are ongoing and not helpful in analysis whether they will \n",
    "# default in future\n",
    "df_loan = df_loan[~(df_loan.loan_status =='Current')]"
   ]
  },
  {
   "cell_type": "code",
   "execution_count": 21,
   "id": "c0736173",
   "metadata": {},
   "outputs": [
    {
     "data": {
      "text/plain": [
       "(38577, 20)"
      ]
     },
     "execution_count": 21,
     "metadata": {},
     "output_type": "execute_result"
    }
   ],
   "source": [
    "# Check count of rows\n",
    "df_loan.shape\n",
    "# Total Rows left = 38577\n"
   ]
  },
  {
   "cell_type": "markdown",
   "id": "23edecf2",
   "metadata": {},
   "source": [
    "##### Analyse Outliers"
   ]
  },
  {
   "cell_type": "code",
   "execution_count": 22,
   "id": "96cd7e3a",
   "metadata": {},
   "outputs": [
    {
     "data": {
      "text/plain": [
       "<AxesSubplot:>"
      ]
     },
     "execution_count": 22,
     "metadata": {},
     "output_type": "execute_result"
    },
    {
     "data": {
      "image/png": "[encoded data removed]",
      "text/plain": [
       "<Figure size 432x288 with 1 Axes>"
      ]
     },
     "metadata": {
      "needs_background": "light"
     },
     "output_type": "display_data"
    }
   ],
   "source": [
    "# Plot box plot to understand outliers in continuous variables column 'funded_amnt_inv'\n",
    "df_loan.funded_amnt_inv.plot.box()\n",
    "\n",
    "#Analysis: funded_amnt_inv> ~270000 are outliers as per box plot but they are relavant in this case study"
   ]
  },
  {
   "cell_type": "code",
   "execution_count": 23,
   "id": "d07fa9b6",
   "metadata": {},
   "outputs": [
    {
     "data": {
      "text/plain": [
       "<AxesSubplot:>"
      ]
     },
     "execution_count": 23,
     "metadata": {},
     "output_type": "execute_result"
    },
    {
     "data": {
      "image/png": "[encoded data removed]",
      "text/plain": [
       "<Figure size 432x288 with 1 Axes>"
      ]
     },
     "metadata": {
      "needs_background": "light"
     },
     "output_type": "display_data"
    }
   ],
   "source": [
    "# Plot box plot to understand outliers in column 'int_rate'\n",
    "df_loan.int_rate.plot.box()\n",
    "\n",
    "#Analysis: int_rate>22.5 are outliers as per box plot but they are relavant in this case as high int_rate may\n",
    "# show trends in becoming default"
   ]
  },
  {
   "cell_type": "code",
   "execution_count": 24,
   "id": "49ab9858",
   "metadata": {},
   "outputs": [
    {
     "data": {
      "text/plain": [
       "<AxesSubplot:>"
      ]
     },
     "execution_count": 24,
     "metadata": {},
     "output_type": "execute_result"
    },
    {
     "data": {
      "image/png": "[encoded data removed]",
      "text/plain": [
       "<Figure size 432x288 with 1 Axes>"
      ]
     },
     "metadata": {
      "needs_background": "light"
     },
     "output_type": "display_data"
    }
   ],
   "source": [
    "# Plot box plot to understand outliers in column 'annual_inc'\n",
    "df_loan.annual_inc.plot.box()"
   ]
  },
  {
   "cell_type": "code",
   "execution_count": 25,
   "id": "555b5b10",
   "metadata": {},
   "outputs": [
    {
     "data": {
      "text/plain": [
       "<matplotlib.collections.PathCollection at 0x1a983e800d0>"
      ]
     },
     "execution_count": 25,
     "metadata": {},
     "output_type": "execute_result"
    },
    {
     "data": {
      "image/png": "[encoded data removed]",
      "text/plain": [
       "<Figure size 432x288 with 1 Axes>"
      ]
     },
     "metadata": {
      "needs_background": "light"
     },
     "output_type": "display_data"
    }
   ],
   "source": [
    "# Plot scatter plot to understand outliers in column 'annual_inc' as box plot wasn't helpful\n",
    "plt.scatter(df_loan.index,df_loan.annual_inc )"
   ]
  },
  {
   "cell_type": "code",
   "execution_count": 26,
   "id": "fda9f8e7",
   "metadata": {},
   "outputs": [
    {
     "data": {
      "text/html": [
       "<div>\n",
       "<style scoped>\n",
       "    .dataframe tbody tr th:only-of-type {\n",
       "        vertical-align: middle;\n",
       "    }\n",
       "\n",
       "    .dataframe tbody tr th {\n",
       "        vertical-align: top;\n",
       "    }\n",
       "\n",
       "    .dataframe thead th {\n",
       "        text-align: right;\n",
       "    }\n",
       "</style>\n",
       "<table border=\"1\" class=\"dataframe\">\n",
       "  <thead>\n",
       "    <tr style=\"text-align: right;\">\n",
       "      <th></th>\n",
       "      <th>id</th>\n",
       "      <th>funded_amnt_inv</th>\n",
       "      <th>int_rate</th>\n",
       "      <th>installment</th>\n",
       "      <th>grade</th>\n",
       "      <th>sub_grade</th>\n",
       "      <th>emp_length</th>\n",
       "      <th>home_ownership</th>\n",
       "      <th>annual_inc</th>\n",
       "      <th>verification_status</th>\n",
       "      <th>issue_d</th>\n",
       "      <th>loan_status</th>\n",
       "      <th>purpose</th>\n",
       "      <th>addr_state</th>\n",
       "      <th>dti</th>\n",
       "      <th>inq_last_6mths</th>\n",
       "      <th>open_acc</th>\n",
       "      <th>pub_rec</th>\n",
       "      <th>acc_now_delinq</th>\n",
       "      <th>term_in_months</th>\n",
       "    </tr>\n",
       "  </thead>\n",
       "  <tbody>\n",
       "    <tr>\n",
       "      <th>7247</th>\n",
       "      <td>884755</td>\n",
       "      <td>12000.00000</td>\n",
       "      <td>14.27</td>\n",
       "      <td>412.57</td>\n",
       "      <td>C</td>\n",
       "      <td>C2</td>\n",
       "      <td>10+ years</td>\n",
       "      <td>RENT</td>\n",
       "      <td>1782000.0</td>\n",
       "      <td>Not Verified</td>\n",
       "      <td>Sep-11</td>\n",
       "      <td>Fully Paid</td>\n",
       "      <td>debt_consolidation</td>\n",
       "      <td>NY</td>\n",
       "      <td>1.31</td>\n",
       "      <td>0</td>\n",
       "      <td>9</td>\n",
       "      <td>0</td>\n",
       "      <td>0</td>\n",
       "      <td>36</td>\n",
       "    </tr>\n",
       "    <tr>\n",
       "      <th>23551</th>\n",
       "      <td>611872</td>\n",
       "      <td>1500.00000</td>\n",
       "      <td>6.17</td>\n",
       "      <td>45.75</td>\n",
       "      <td>A</td>\n",
       "      <td>A3</td>\n",
       "      <td>5 years</td>\n",
       "      <td>MORTGAGE</td>\n",
       "      <td>1900000.0</td>\n",
       "      <td>Source Verified</td>\n",
       "      <td>Nov-10</td>\n",
       "      <td>Fully Paid</td>\n",
       "      <td>credit_card</td>\n",
       "      <td>TX</td>\n",
       "      <td>0.57</td>\n",
       "      <td>2</td>\n",
       "      <td>17</td>\n",
       "      <td>0</td>\n",
       "      <td>0</td>\n",
       "      <td>36</td>\n",
       "    </tr>\n",
       "    <tr>\n",
       "      <th>29639</th>\n",
       "      <td>519954</td>\n",
       "      <td>11430.00082</td>\n",
       "      <td>10.62</td>\n",
       "      <td>334.08</td>\n",
       "      <td>B</td>\n",
       "      <td>B3</td>\n",
       "      <td>3 years</td>\n",
       "      <td>MORTGAGE</td>\n",
       "      <td>3900000.0</td>\n",
       "      <td>Not Verified</td>\n",
       "      <td>Jun-10</td>\n",
       "      <td>Fully Paid</td>\n",
       "      <td>home_improvement</td>\n",
       "      <td>NM</td>\n",
       "      <td>0.20</td>\n",
       "      <td>3</td>\n",
       "      <td>12</td>\n",
       "      <td>0</td>\n",
       "      <td>0</td>\n",
       "      <td>60</td>\n",
       "    </tr>\n",
       "    <tr>\n",
       "      <th>30107</th>\n",
       "      <td>513542</td>\n",
       "      <td>5000.00000</td>\n",
       "      <td>12.73</td>\n",
       "      <td>167.84</td>\n",
       "      <td>C</td>\n",
       "      <td>C1</td>\n",
       "      <td>10+ years</td>\n",
       "      <td>MORTGAGE</td>\n",
       "      <td>6000000.0</td>\n",
       "      <td>Source Verified</td>\n",
       "      <td>May-10</td>\n",
       "      <td>Fully Paid</td>\n",
       "      <td>home_improvement</td>\n",
       "      <td>CA</td>\n",
       "      <td>0.01</td>\n",
       "      <td>1</td>\n",
       "      <td>2</td>\n",
       "      <td>0</td>\n",
       "      <td>0</td>\n",
       "      <td>36</td>\n",
       "    </tr>\n",
       "    <tr>\n",
       "      <th>39089</th>\n",
       "      <td>269818</td>\n",
       "      <td>3747.00000</td>\n",
       "      <td>12.29</td>\n",
       "      <td>281.84</td>\n",
       "      <td>C</td>\n",
       "      <td>C5</td>\n",
       "      <td>&lt; 1 year</td>\n",
       "      <td>RENT</td>\n",
       "      <td>2039784.0</td>\n",
       "      <td>Not Verified</td>\n",
       "      <td>Mar-08</td>\n",
       "      <td>Fully Paid</td>\n",
       "      <td>debt_consolidation</td>\n",
       "      <td>FL</td>\n",
       "      <td>0.13</td>\n",
       "      <td>1</td>\n",
       "      <td>7</td>\n",
       "      <td>0</td>\n",
       "      <td>0</td>\n",
       "      <td>36</td>\n",
       "    </tr>\n",
       "  </tbody>\n",
       "</table>\n",
       "</div>"
      ],
      "text/plain": [
       "           id  funded_amnt_inv  int_rate  installment grade sub_grade  \\\n",
       "7247   884755      12000.00000     14.27       412.57     C        C2   \n",
       "23551  611872       1500.00000      6.17        45.75     A        A3   \n",
       "29639  519954      11430.00082     10.62       334.08     B        B3   \n",
       "30107  513542       5000.00000     12.73       167.84     C        C1   \n",
       "39089  269818       3747.00000     12.29       281.84     C        C5   \n",
       "\n",
       "      emp_length home_ownership  annual_inc verification_status issue_d  \\\n",
       "7247   10+ years           RENT   1782000.0        Not Verified  Sep-11   \n",
       "23551    5 years       MORTGAGE   1900000.0     Source Verified  Nov-10   \n",
       "29639    3 years       MORTGAGE   3900000.0        Not Verified  Jun-10   \n",
       "30107  10+ years       MORTGAGE   6000000.0     Source Verified  May-10   \n",
       "39089   < 1 year           RENT   2039784.0        Not Verified  Mar-08   \n",
       "\n",
       "      loan_status             purpose addr_state   dti  inq_last_6mths  \\\n",
       "7247   Fully Paid  debt_consolidation         NY  1.31               0   \n",
       "23551  Fully Paid         credit_card         TX  0.57               2   \n",
       "29639  Fully Paid    home_improvement         NM  0.20               3   \n",
       "30107  Fully Paid    home_improvement         CA  0.01               1   \n",
       "39089  Fully Paid  debt_consolidation         FL  0.13               1   \n",
       "\n",
       "       open_acc  pub_rec  acc_now_delinq  term_in_months  \n",
       "7247          9        0               0              36  \n",
       "23551        17        0               0              36  \n",
       "29639        12        0               0              60  \n",
       "30107         2        0               0              36  \n",
       "39089         7        0               0              36  "
      ]
     },
     "execution_count": 26,
     "metadata": {},
     "output_type": "execute_result"
    }
   ],
   "source": [
    "# As it is visible that most of the borrower annual income is within 15,000,00. Try checking 95% and 99% of data\n",
    "# also to decide on removing ouliers\n",
    "df_loan[df_loan.annual_inc > 1500000]\n",
    "\n",
    "# Only 5/39717 borrowers has income more than 1500000"
   ]
  },
  {
   "cell_type": "code",
   "execution_count": 31,
   "id": "2ae460da",
   "metadata": {},
   "outputs": [
    {
     "data": {
      "text/plain": [
       "(38572, 20)"
      ]
     },
     "execution_count": 31,
     "metadata": {},
     "output_type": "execute_result"
    }
   ],
   "source": [
    "# Hence borrower with annual income more than 15,000,00 can be treated as ouliers and removed from our analysis.\n",
    "df_loan = df_loan[df_loan.annual_inc < 1500000]\n",
    "df_loan.shape"
   ]
  },
  {
   "cell_type": "markdown",
   "id": "2025dfab",
   "metadata": {},
   "source": [
    "#### Data Imputation"
   ]
  },
  {
   "cell_type": "code",
   "execution_count": 32,
   "id": "1eea1a6a",
   "metadata": {},
   "outputs": [
    {
     "data": {
      "text/plain": [
       "0"
      ]
     },
     "execution_count": 32,
     "metadata": {},
     "output_type": "execute_result"
    }
   ],
   "source": [
    "# Check how many columns have null values\n",
    "(df_loan.isnull().sum()>0).sum()"
   ]
  },
  {
   "cell_type": "code",
   "execution_count": 33,
   "id": "be35e238",
   "metadata": {},
   "outputs": [
    {
     "data": {
      "text/plain": [
       "id                     False\n",
       "funded_amnt_inv        False\n",
       "int_rate               False\n",
       "installment            False\n",
       "grade                  False\n",
       "sub_grade              False\n",
       "emp_length             False\n",
       "home_ownership         False\n",
       "annual_inc             False\n",
       "verification_status    False\n",
       "issue_d                False\n",
       "loan_status            False\n",
       "purpose                False\n",
       "addr_state             False\n",
       "dti                    False\n",
       "inq_last_6mths         False\n",
       "open_acc               False\n",
       "pub_rec                False\n",
       "acc_now_delinq         False\n",
       "term_in_months         False\n",
       "dtype: bool"
      ]
     },
     "execution_count": 33,
     "metadata": {},
     "output_type": "execute_result"
    }
   ],
   "source": [
    "# Check columns which have null values\n",
    "df_loan.isnull().sum()>0"
   ]
  },
  {
   "cell_type": "code",
   "execution_count": 34,
   "id": "1d997c40",
   "metadata": {},
   "outputs": [],
   "source": [
    "# Replace NA with most appropriate value for that column\n",
    "# In case of emp_length, its better to replace with 0\n",
    "df_loan.emp_length.fillna(0,inplace = True)\n"
   ]
  },
  {
   "cell_type": "markdown",
   "id": "21c755e8",
   "metadata": {},
   "source": [
    "### 5. Data Analysis"
   ]
  },
  {
   "cell_type": "code",
   "execution_count": 35,
   "id": "ad4ccecc",
   "metadata": {},
   "outputs": [
    {
     "data": {
      "image/png": "[encoded data removed]",
      "text/plain": [
       "<Figure size 432x288 with 1 Axes>"
      ]
     },
     "metadata": {},
     "output_type": "display_data"
    }
   ],
   "source": [
    "#Understand the distrinution of Fully Paid vs Charged Off loans\n",
    "df_loan.loan_status.value_counts().plot.pie()\n",
    "plt.show()"
   ]
  },
  {
   "cell_type": "code",
   "execution_count": 36,
   "id": "ae29a534",
   "metadata": {},
   "outputs": [],
   "source": [
    "# Split data based on loan status \n",
    "df_def = df_loan[(df_loan.loan_status =='Charged Off')]\n",
    "df_paid = df_loan[(df_loan.loan_status =='Fully Paid')]"
   ]
  },
  {
   "cell_type": "markdown",
   "id": "d28a2609",
   "metadata": {},
   "source": [
    "#### Analysis 1"
   ]
  },
  {
   "cell_type": "code",
   "execution_count": 33,
   "id": "a35cd874",
   "metadata": {},
   "outputs": [
    {
     "data": {
      "image/png": "[encoded data removed]",
      "text/plain": [
       "<Figure size 720x504 with 1 Axes>"
      ]
     },
     "metadata": {
      "needs_background": "light"
     },
     "output_type": "display_data"
    }
   ],
   "source": [
    "plt.figure(figsize=(10,7))\n",
    "plt.boxplot([df_def.int_rate,df_paid.int_rate,df_loan.int_rate], labels = ['Charged Off','Fully Paid','ALL'])\n",
    "plt.xlabel('Loan Status')\n",
    "plt.ylabel('Interest Rate')                                                                                                                                             \n",
    "plt.show()\n",
    "\n",
    "# 75% of the loans with interest rate within 14% are better performing or fully paid.\n",
    "# 50% or 1/2 of the loans with interest rate higher than 14% are charged off. This is huge number as almost\n",
    "# half of the loans are getting defaulted above 14%.\n",
    "# Conclusion\n",
    "# Loans with interest rates upto 14% are better performing and have lower chances of becoming default. \n"
   ]
  },
  {
   "cell_type": "markdown",
   "id": "ef58cedf",
   "metadata": {},
   "source": [
    "#### Analysis 2"
   ]
  },
  {
   "cell_type": "code",
   "execution_count": 37,
   "id": "e3af1dac",
   "metadata": {},
   "outputs": [
    {
     "data": {
      "image/png": "[encoded data removed]",
      "text/plain": [
       "<Figure size 720x504 with 1 Axes>"
      ]
     },
     "metadata": {
      "needs_background": "light"
     },
     "output_type": "display_data"
    }
   ],
   "source": [
    "plt.figure(figsize=(10,7))\n",
    "plt.boxplot([df_def.annual_inc,df_paid.annual_inc,df_loan.annual_inc], labels = ['Charged Off','Fully Paid','ALL'])\n",
    "plt.xlabel('Loan Status')\n",
    "plt.ylabel('Annual income')                                                                                                                                             \n",
    "plt.show()\n",
    "\n",
    "# Analysis: Annual income of borrower doesn't have significant impact on loan status"
   ]
  },
  {
   "cell_type": "markdown",
   "id": "0cbbdb28",
   "metadata": {},
   "source": [
    "#### Analysis 3"
   ]
  },
  {
   "cell_type": "code",
   "execution_count": 38,
   "id": "bef4cb8f",
   "metadata": {},
   "outputs": [
    {
     "data": {
      "text/plain": [
       "<Figure size 720x504 with 0 Axes>"
      ]
     },
     "metadata": {},
     "output_type": "display_data"
    },
    {
     "data": {
      "image/png": "[encoded data removed]",
      "text/plain": [
       "<Figure size 432x288 with 1 Axes>"
      ]
     },
     "metadata": {
      "needs_background": "light"
     },
     "output_type": "display_data"
    }
   ],
   "source": [
    "# Check what is the impact of 'grade' in contributing towards default loan\n",
    "plt.figure(figsize =  [10,7])\n",
    "df_loan.groupby('grade')['loan_status'].value_counts().unstack().plot(kind='bar',ylabel = \"Loan Status\")\n",
    "plt.xlabel('Grades')\n",
    "plt.show()\n",
    "\n",
    "# Analysis: Grade B has highest defaults and G has lowest % of default loans but pattern doesn't show strong \n",
    "# obervation to conclude anything."
   ]
  },
  {
   "cell_type": "markdown",
   "id": "372b0d23",
   "metadata": {},
   "source": [
    "#### Analysis 4"
   ]
  },
  {
   "cell_type": "code",
   "execution_count": 39,
   "id": "4c6407c6",
   "metadata": {},
   "outputs": [
    {
     "data": {
      "image/png": "[encoded data removed]",
      "text/plain": [
       "<Figure size 432x288 with 1 Axes>"
      ]
     },
     "metadata": {
      "needs_background": "light"
     },
     "output_type": "display_data"
    }
   ],
   "source": [
    "# Check what is the impact of 'sub_grade' in contributing towards default loan\n",
    "\n",
    "df_loan.groupby('sub_grade')['loan_status'].value_counts().unstack().plot(kind='bar',ylabel = \"Loan Status\")\n",
    "plt.xlabel('Sub-Grades')\n",
    "plt.show()\n",
    "# Analysis Result: Sub Grade B3,B4,B5, C1 and C2 has highest defaults and G5 has lowest % of default loans but pattern doesn't show strong \n",
    "# obervation to conclude anything."
   ]
  },
  {
   "cell_type": "markdown",
   "id": "d9be818b",
   "metadata": {},
   "source": [
    "#### Analysis 5"
   ]
  },
  {
   "cell_type": "code",
   "execution_count": 40,
   "id": "8fb13618",
   "metadata": {},
   "outputs": [
    {
     "data": {
      "image/png": "[encoded data removed]",
      "text/plain": [
       "<Figure size 432x288 with 1 Axes>"
      ]
     },
     "metadata": {
      "needs_background": "light"
     },
     "output_type": "display_data"
    }
   ],
   "source": [
    "# Check if home_ownership has any impact on loan status\n",
    "\n",
    "df_loan.groupby('home_ownership')['loan_status'].value_counts().unstack().plot(kind='bar',ylabel = \"Loan Status\")\n",
    "plt.xlabel('Home Ownership')\n",
    "plt.legend(bbox_to_anchor = (1,0.2))\n",
    "plt.show()\n",
    "# Analysis Result: Loans for which borrower has morgaged or rented house are more likely to default."
   ]
  },
  {
   "cell_type": "markdown",
   "id": "22ebaccb",
   "metadata": {},
   "source": [
    "#### Analysis 6"
   ]
  },
  {
   "cell_type": "code",
   "execution_count": 41,
   "id": "65bbd3ca",
   "metadata": {},
   "outputs": [
    {
     "data": {
      "image/png": "[encoded data removed]",
      "text/plain": [
       "<Figure size 432x288 with 1 Axes>"
      ]
     },
     "metadata": {
      "needs_background": "light"
     },
     "output_type": "display_data"
    }
   ],
   "source": [
    "# Check if purpose of loan has any impact on loan status\n",
    "\n",
    "df_loan.groupby('purpose')['loan_status'].value_counts().unstack().plot(kind='bar',ylabel = \"Loan Status\")\n",
    "plt.xlabel('Purpose')\n",
    "plt.legend(bbox_to_anchor = (1,0.2))\n",
    "plt.show()\n",
    "# Analysis Result: Purpose for which loan has been taken is maximum for debt consilidation.\n",
    "# However it can not be concluded that debt consilidaiton is one of the reason behind loan getting charged off."
   ]
  },
  {
   "cell_type": "markdown",
   "id": "be0a4b49",
   "metadata": {},
   "source": [
    "#### Analysis 6"
   ]
  },
  {
   "cell_type": "code",
   "execution_count": 42,
   "id": "b746cd09",
   "metadata": {},
   "outputs": [
    {
     "data": {
      "image/png": "[encoded data removed]",
      "text/plain": [
       "<Figure size 432x288 with 1 Axes>"
      ]
     },
     "metadata": {
      "needs_background": "light"
     },
     "output_type": "display_data"
    }
   ],
   "source": [
    "# Check if purpose of loan has any impact on loan status\n",
    "\n",
    "df_loan.groupby('term_in_months')['loan_status'].value_counts().unstack().plot(kind='bar',ylabel = \"Loan Status\")\n",
    "plt.xlabel('Loan Terms (months)')\n",
    "plt.legend(bbox_to_anchor = (1,0.2))\n",
    "plt.show()\n",
    "\n",
    "#Analysis: It is visible from the graph that percentage of default loan in 60month tenure is more as compared to 36 month tenure.\n",
    "# Before coming to any conclusion, lets calculate of percentage of default loans within terms category."
   ]
  },
  {
   "cell_type": "code",
   "execution_count": 43,
   "id": "037fc7d3",
   "metadata": {},
   "outputs": [
    {
     "data": {
      "text/plain": [
       "25.31645569620253"
      ]
     },
     "execution_count": 43,
     "metadata": {},
     "output_type": "execute_result"
    }
   ],
   "source": [
    "# Calculate percentage of charged off loans in 60 month term\n",
    "total_loan_60month = len(df_loan[df_loan.term_in_months == 60].index)\n",
    "total_chargedOff_loan_60month = len(df_loan[(df_loan.term_in_months == 60) & (df_loan.loan_status == 'Charged Off')].index)\n",
    "Percentage_Default_Loans_60month = (total_chargedOff_loan_60month/total_loan_60month)*100\n",
    "Percentage_Default_Loans_60month\n",
    "\n",
    "#Analysis\n",
    "#   Almost 25% of the loans taken for 60 months tenure are charged off i.e. 1 out of 4 loans taken for 60 months tenure are\n",
    "#   likely to default."
   ]
  },
  {
   "cell_type": "code",
   "execution_count": 45,
   "id": "e55e709d",
   "metadata": {},
   "outputs": [
    {
     "name": "stdout",
     "output_type": "stream",
     "text": [
      "2.2823251599439853\n"
     ]
    }
   ],
   "source": [
    "# Calculate percentage of charged off loans in 36 month term\n",
    "total_loan_36month = len(df_loan[df_loan.term_in_months == 36].index)\n",
    "total_chargedOff_loan_36month = len(df_loan[(df_loan.term_in_months == 36) & (df_loan.loan_status == 'Charged Off')].index)\n",
    "Percentage_Default_Loans_36month = (total_chargedOff_loan_36month/total_loan_36month)*100\n",
    "Percentage_Default_Loans_36month\n",
    "\n",
    "Ratio = Percentage_Default_Loans_60month/Percentage_Default_Loans_36month\n",
    "print(Ratio)\n",
    "\n",
    "#Analysis\n",
    "# Chances of loan getting charged off in twice in 60 months as compared to 36 months tenure loan."
   ]
  },
  {
   "cell_type": "markdown",
   "id": "3ca4646f",
   "metadata": {},
   "source": [
    "#### Analysis 7"
   ]
  },
  {
   "cell_type": "code",
   "execution_count": 46,
   "id": "1d3bf497",
   "metadata": {},
   "outputs": [
    {
     "data": {
      "image/png": "[encoded data removed]",
      "text/plain": [
       "<Figure size 432x288 with 1 Axes>"
      ]
     },
     "metadata": {
      "needs_background": "light"
     },
     "output_type": "display_data"
    }
   ],
   "source": [
    "# Check if emp_length has any impact on loan status\n",
    "\n",
    "df_loan.groupby('emp_length')['loan_status'].value_counts().unstack().plot(kind='bar',ylabel = \"Loan Status\")\n",
    "plt.xlabel('Borrower Employment Length')\n",
    "plt.legend(bbox_to_anchor = (1,0.2))\n",
    "plt.show()\n",
    "#Conclusion: No clear pattern observed."
   ]
  },
  {
   "cell_type": "markdown",
   "id": "181511f3",
   "metadata": {},
   "source": [
    "#### Analysis 8"
   ]
  },
  {
   "cell_type": "code",
   "execution_count": 49,
   "id": "39e2723a",
   "metadata": {},
   "outputs": [
    {
     "data": {
      "image/png": "[encoded data removed]",
      "text/plain": [
       "<Figure size 432x288 with 1 Axes>"
      ]
     },
     "metadata": {
      "needs_background": "light"
     },
     "output_type": "display_data"
    }
   ],
   "source": [
    "# Binning on annual income\n",
    "df_loan['annual_inc_cat'] = pd.cut(df_loan.annual_inc,14)\n",
    "df_loan.groupby('annual_inc_cat')['loan_status'].value_counts().unstack().plot(kind='bar',ylabel = \"Loan Status\")\n",
    "plt.xlabel('Annual Income')\n",
    "plt.legend(bbox_to_anchor = (1,0.2))\n",
    "plt.show()\n",
    "\n",
    "# Analysis\n",
    "# No pattern observed to conclude anything."
   ]
  },
  {
   "cell_type": "markdown",
   "id": "ee974a61",
   "metadata": {},
   "source": [
    "#### Analysis 9"
   ]
  },
  {
   "cell_type": "code",
   "execution_count": 45,
   "id": "71536033",
   "metadata": {},
   "outputs": [
    {
     "data": {
      "image/png": "[encoded data removed]",
      "text/plain": [
       "<Figure size 432x288 with 1 Axes>"
      ]
     },
     "metadata": {
      "needs_background": "light"
     },
     "output_type": "display_data"
    }
   ],
   "source": [
    "# Binning on Funded amount\n",
    "df_loan['funded_amnt_cat'] = pd.cut(df_loan.funded_amnt_inv,10)\n",
    "df_loan.groupby('funded_amnt_cat')['loan_status'].value_counts().unstack().plot(kind='bar',ylabel = \"Loan Status\")\n",
    "plt.xlabel('Funded Amount')\n",
    "plt.show()\n",
    "#Conclusion: No clear pattern observed."
   ]
  }
 ],
 "metadata": {
  "kernelspec": {
   "display_name": "Python 3 (ipykernel)",
   "language": "python",
   "name": "python3"
  },
  "language_info": {
   "codemirror_mode": {
    "name": "ipython",
    "version": 3
   },
   "file_extension": ".py",
   "mimetype": "text/x-python",
   "name": "python",
   "nbconvert_exporter": "python",
   "pygments_lexer": "ipython3",
   "version": "3.8.3"
  }
 },
 "nbformat": 4,
 "nbformat_minor": 5
}
